{
 "cells": [
  {
   "cell_type": "markdown",
   "metadata": {},
   "source": [
    "# HA 3"
   ]
  },
  {
   "cell_type": "markdown",
   "metadata": {},
   "source": [
    "Ozmaden Deniz\n",
    "194"
   ]
  },
  {
   "cell_type": "markdown",
   "metadata": {},
   "source": [
    "### Problem 1 (1 point)"
   ]
  },
  {
   "cell_type": "markdown",
   "metadata": {},
   "source": [
    "Diffie–Hellman key exchange protocol is one of the earliest practical examples of public key exchange implemented within the field of cryptography. Published in 1976 by Diffie and Hellman, this is the earliest publicly known work that proposed the idea of a private key and a corresponding public key. "
   ]
  },
  {
   "cell_type": "markdown",
   "metadata": {},
   "source": [
    "1) Implement function to generate common secret key within multiplicative group of given Finite field with known generator. \n",
    "\n",
    "*Note. You can assume that all the numbers are small, for example, less than 1000.*"
   ]
  },
  {
   "cell_type": "code",
   "execution_count": 210,
   "metadata": {
    "collapsed": true
   },
   "outputs": [],
   "source": [
    "def generate_common_secret_key(p, generator, alices_private_key, bobs_open_key=None, bobs_private_key=None):\n",
    "    if (bobs_open_key != None):\n",
    "        return (bobs_open_key ** alices_private_key) % p\n",
    "    elif (bobs_private_key != None):\n",
    "        generated_bobs_open_key = (generator ** bobs_private_key) % p\n",
    "        return (generated_bobs_open_key ** alices_private_key) % p\n",
    "    else: \n",
    "        raise Exception('No private key or public key provided for Bob!')"
   ]
  },
  {
   "cell_type": "markdown",
   "metadata": {},
   "source": [
    "2) Test your solution in GF(17) with generator g=11. Bobs' open key B=11, Alice private key is a=7"
   ]
  },
  {
   "cell_type": "code",
   "execution_count": 211,
   "metadata": {
    "collapsed": true
   },
   "outputs": [
    {
     "data": {
      "text/plain": [
       "3"
      ]
     },
     "execution_count": 211,
     "metadata": {},
     "output_type": "execute_result"
    }
   ],
   "source": [
    "generate_common_secret_key(p = 17, generator = 11, alices_private_key = 7, bobs_open_key = 11)"
   ]
  },
  {
   "cell_type": "markdown",
   "metadata": {},
   "source": [
    "### Problem 2 (3 points)"
   ]
  },
  {
   "cell_type": "markdown",
   "metadata": {},
   "source": [
    "El Gamal protocol is widely used in cryptography. In this task we will ask you to implement your own El-Gamal encryption scheme on Python."
   ]
  },
  {
   "cell_type": "markdown",
   "metadata": {},
   "source": [
    "1) Implement function for generating keys. The function must generate big random prime number (problem of generating big prime numbers was discussed within the lectures). (1 point)\n",
    "\n",
    "*Note. You can assume that all the numbers are small, for example, less than $2^{32}$. But you **must** use a primality test as a part of the function to get a full score.*"
   ]
  },
  {
   "cell_type": "code",
   "execution_count": 212,
   "metadata": {},
   "outputs": [],
   "source": [
    "# optimized search using fact that all primes greater than 3 are of the form 6k ± 1\n",
    "def is_prime(n: int) -> bool:\n",
    "    if n == 2 or n == 3:\n",
    "        return True\n",
    "    if n <= 1 or n % 2 == 0 or n % 3 == 0:\n",
    "        return False\n",
    "    limit = int(n**0.5)\n",
    "    for i in range(5, limit+1, 6):\n",
    "        if n % i == 0 or n % (i+2) == 0:\n",
    "            return False\n",
    "    return True"
   ]
  },
  {
   "cell_type": "code",
   "execution_count": 213,
   "metadata": {},
   "outputs": [],
   "source": [
    "import random\n",
    "\n",
    "def miller_rabin_test(n, k=40):\n",
    "    if n == 2 or n == 3:\n",
    "        return True\n",
    "    if n <= 1 or n % 2 == 0 or n % 3 == 0:\n",
    "        return False\n",
    "\n",
    "    r, s = 0, n - 1\n",
    "    while s % 2 == 0:\n",
    "        r += 1\n",
    "        s //= 2\n",
    "    \n",
    "    for _ in range(k):\n",
    "        a = random.randrange(2, n - 1)\n",
    "        x = pow(a, s, n)\n",
    "        if x == 1 or x == n - 1:\n",
    "            continue\n",
    "        for _ in range(r - 1):\n",
    "            x = pow(x, 2, n)\n",
    "            if x == n - 1:\n",
    "                break\n",
    "        else:\n",
    "            return False\n",
    "\n",
    "    return True"
   ]
  },
  {
   "cell_type": "code",
   "execution_count": 214,
   "metadata": {},
   "outputs": [],
   "source": [
    "def generate_prime(limit):\n",
    "    num = -1\n",
    "    while (not is_prime(num) or not miller_rabin_test(num)):\n",
    "        num = random.randrange(1, limit)\n",
    "    return num"
   ]
  },
  {
   "cell_type": "code",
   "execution_count": 215,
   "metadata": {},
   "outputs": [
    {
     "data": {
      "text/plain": [
       "1396281641"
      ]
     },
     "execution_count": 215,
     "metadata": {},
     "output_type": "execute_result"
    }
   ],
   "source": [
    "generate_prime(2**32)"
   ]
  },
  {
   "cell_type": "markdown",
   "metadata": {},
   "source": [
    "2) Implement functions that realize the encryption and decryption in El Gamal protocol. (1 points)"
   ]
  },
  {
   "cell_type": "code",
   "execution_count": 216,
   "metadata": {},
   "outputs": [],
   "source": [
    "def generate_keys(p, generator):\n",
    "    private_key = random.randrange(0, generator)\n",
    "    public_key = (generator ** private_key) % p\n",
    "    return private_key, public_key"
   ]
  },
  {
   "cell_type": "code",
   "execution_count": 217,
   "metadata": {
    "collapsed": true
   },
   "outputs": [],
   "source": [
    "# https://www.educative.io/answers/what-is-the-el-gamal-encryption\n",
    "\n",
    "p = generate_prime(2**10)\n",
    "generator = random.randrange(1, p)\n",
    "\n",
    "# Alice generates own private key and public key\n",
    "alices_private_key, alices_public_key = generate_keys(p, generator)\n",
    "\n",
    "# Bob generates own private key and public key\n",
    "bobs_private_key, bobs_public_key = generate_keys(p, generator)\n",
    "\n",
    "shared_secret_key = generator ** (bobs_private_key * alices_private_key) % p"
   ]
  },
  {
   "cell_type": "code",
   "execution_count": 218,
   "metadata": {},
   "outputs": [],
   "source": [
    "def elgamal_encypt(message, shared_secret_key, p):\n",
    "    encrypted_message = list()\n",
    "    for e in message:\n",
    "        encrypted_message.append((e * shared_secret_key) % p)\n",
    "    return encrypted_message\n",
    "\n",
    "def elgamal_decrypt(encrypted_message, sender_public_key, receiver_private_key, p):\n",
    "    decrypted_message = list()\n",
    "    for e in encrypted_message:\n",
    "        decrypted_message.append(e * pow(sender_public_key, p-1-receiver_private_key, p) % p)\n",
    "    return decrypted_message"
   ]
  },
  {
   "cell_type": "code",
   "execution_count": 219,
   "metadata": {},
   "outputs": [
    {
     "name": "stdout",
     "output_type": "stream",
     "text": [
      "Original message is: [14]\n",
      "Encrypted message is: [57]\n"
     ]
    }
   ],
   "source": [
    "message = [random.randrange(1, 2**5)]\n",
    "print(f\"Original message is: {message}\")\n",
    "\n",
    "encrypted_message = elgamal_encypt(message, shared_secret_key, p)\n",
    "print(f\"Encrypted message is: {encrypted_message}\")"
   ]
  },
  {
   "cell_type": "code",
   "execution_count": 220,
   "metadata": {},
   "outputs": [
    {
     "name": "stdout",
     "output_type": "stream",
     "text": [
      "Decrypted message is: [14]\n"
     ]
    }
   ],
   "source": [
    "decrypted_message = elgamal_decrypt(encrypted_message, bobs_public_key, alices_private_key, p)\n",
    "print(f\"Decrypted message is: {decrypted_message}\")"
   ]
  },
  {
   "cell_type": "code",
   "execution_count": 221,
   "metadata": {},
   "outputs": [],
   "source": [
    "assert(message == decrypted_message)"
   ]
  },
  {
   "cell_type": "markdown",
   "metadata": {},
   "source": [
    "3) Calculate Hash of your name by SHA-1 and test El Gamal encryption/decryption functions on its 16-bit prefix. (1 points)"
   ]
  },
  {
   "cell_type": "code",
   "execution_count": 222,
   "metadata": {
    "collapsed": true
   },
   "outputs": [
    {
     "name": "stdout",
     "output_type": "stream",
     "text": [
      "Name hash: 90c1933bb1ae32755dd59ea4f971280e54a78756\n",
      "16-bit prefix = 826411540640818757174046232635753415468640601942\n",
      "Original message array: [8, 2, 6, 4, 1, 1, 5, 4, 0, 6, 4, 0, 8, 1, 8, 7, 5, 7, 1, 7, 4, 0, 4, 6, 2, 3, 2, 6, 3, 5, 7, 5, 3, 4, 1, 5, 4, 6, 8, 6, 4, 0, 6, 0, 1, 9, 4, 2]\n",
      "Encrypted name = [250, 443, 568, 125, 602, 602, 727, 125, 0, 568, 125, 0, 250, 602, 250, 409, 727, 409, 602, 409, 125, 0, 125, 568, 443, 284, 443, 568, 284, 727, 409, 727, 284, 125, 602, 727, 125, 568, 250, 568, 125, 0, 568, 0, 602, 91, 125, 443]\n",
      "Decrypted name = [8, 2, 6, 4, 1, 1, 5, 4, 0, 6, 4, 0, 8, 1, 8, 7, 5, 7, 1, 7, 4, 0, 4, 6, 2, 3, 2, 6, 3, 5, 7, 5, 3, 4, 1, 5, 4, 6, 8, 6, 4, 0, 6, 0, 1, 9, 4, 2]\n",
      "Decrypted name hash = 90c1933bb1ae32755dd59ea4f971280e54a78756\n"
     ]
    }
   ],
   "source": [
    "import hashlib\n",
    "\n",
    "my_name = b\"Deniz\"\n",
    "name_hash = hashlib.sha1(my_name).hexdigest() \n",
    "print(f\"Name hash: {name_hash}\")\n",
    "\n",
    "prefix = int(name_hash, 16) \n",
    "print(f\"16-bit prefix = {prefix}\")\n",
    "\n",
    "message_array = []\n",
    "for c in str(prefix):\n",
    "    message_array.append(int(c))\n",
    "print(f\"Original message array: {message_array}\")\n",
    "\n",
    "encrypted_name = elgamal_encypt(message_array, shared_secret_key, p)\n",
    "print(f\"Encrypted name = {encrypted_name}\")\n",
    "\n",
    "decrypted_name = elgamal_decrypt(encrypted_name, bobs_public_key, alices_private_key, p)\n",
    "print(f\"Decrypted name = {decrypted_name}\")\n",
    "\n",
    "arr_string = \"\"\n",
    "for e in decrypted_name:\n",
    "    arr_string = arr_string + (str(e))\n",
    "\n",
    "decrypted_name_hash = hex(int(arr_string))\n",
    "print(f\"Decrypted name hash = {decrypted_name_hash[2:]}\")"
   ]
  },
  {
   "cell_type": "markdown",
   "metadata": {},
   "source": [
    "### Problem 3 (4 points)"
   ]
  },
  {
   "cell_type": "markdown",
   "metadata": {},
   "source": [
    "Elliptic curves due to their efficient hardware realization widely used in modern secure communication channels. The main thing that lies inside their cryptographic hardness is that we can break them only by greed search over all group points. In this task, we will ask you to write Python function that returns all group elements of a certain elliptic curve over a finite field "
   ]
  },
  {
   "cell_type": "markdown",
   "metadata": {},
   "source": [
    "1) Write a python function that list all points of elliptic curve $y^2=x^3+7$ over $F_{127}$ (1 point)"
   ]
  },
  {
   "cell_type": "markdown",
   "metadata": {},
   "source": [
    "*Note. $127 = 2^7-1$ is the fourth Mersenne prime.*"
   ]
  },
  {
   "cell_type": "code",
   "execution_count": 223,
   "metadata": {},
   "outputs": [],
   "source": [
    "def elliptic_curve_group_elements(p, num):\n",
    "    ans = []\n",
    "    for x in range(1, p):\n",
    "        for y in range(1, p):\n",
    "            if ((x**3 + num) % p == (y**2) % p):\n",
    "                ans.append((x, y))\n",
    "    return ans"
   ]
  },
  {
   "cell_type": "code",
   "execution_count": 224,
   "metadata": {},
   "outputs": [
    {
     "data": {
      "text/plain": [
       "[(1, 32),\n",
       " (1, 95),\n",
       " (2, 53),\n",
       " (2, 74),\n",
       " (3, 62),\n",
       " (3, 65),\n",
       " (4, 43),\n",
       " (4, 84),\n",
       " (8, 30),\n",
       " (8, 97),\n",
       " (11, 24),\n",
       " (11, 103),\n",
       " (12, 46),\n",
       " (12, 81),\n",
       " (14, 46),\n",
       " (14, 81),\n",
       " (17, 27),\n",
       " (17, 100),\n",
       " (18, 39),\n",
       " (18, 88),\n",
       " (19, 32),\n",
       " (19, 95),\n",
       " (21, 39),\n",
       " (21, 88),\n",
       " (24, 49),\n",
       " (24, 78),\n",
       " (25, 30),\n",
       " (25, 97),\n",
       " (28, 49),\n",
       " (28, 78),\n",
       " (32, 3),\n",
       " (32, 124),\n",
       " (34, 24),\n",
       " (34, 103),\n",
       " (38, 53),\n",
       " (38, 74),\n",
       " (39, 12),\n",
       " (39, 115),\n",
       " (41, 27),\n",
       " (41, 100),\n",
       " (45, 33),\n",
       " (45, 94),\n",
       " (46, 51),\n",
       " (46, 76),\n",
       " (47, 43),\n",
       " (47, 84),\n",
       " (51, 18),\n",
       " (51, 109),\n",
       " (52, 36),\n",
       " (52, 91),\n",
       " (57, 62),\n",
       " (57, 65),\n",
       " (58, 38),\n",
       " (58, 89),\n",
       " (60, 19),\n",
       " (60, 108),\n",
       " (67, 62),\n",
       " (67, 65),\n",
       " (69, 27),\n",
       " (69, 100),\n",
       " (70, 19),\n",
       " (70, 108),\n",
       " (71, 63),\n",
       " (71, 64),\n",
       " (72, 16),\n",
       " (72, 111),\n",
       " (75, 49),\n",
       " (75, 78),\n",
       " (76, 43),\n",
       " (76, 84),\n",
       " (78, 50),\n",
       " (78, 77),\n",
       " (79, 63),\n",
       " (79, 64),\n",
       " (80, 18),\n",
       " (80, 109),\n",
       " (82, 24),\n",
       " (82, 103),\n",
       " (84, 16),\n",
       " (84, 111),\n",
       " (85, 50),\n",
       " (85, 77),\n",
       " (86, 38),\n",
       " (86, 89),\n",
       " (87, 53),\n",
       " (87, 74),\n",
       " (88, 39),\n",
       " (88, 88),\n",
       " (91, 50),\n",
       " (91, 77),\n",
       " (93, 33),\n",
       " (93, 94),\n",
       " (94, 30),\n",
       " (94, 97),\n",
       " (96, 51),\n",
       " (96, 76),\n",
       " (98, 16),\n",
       " (98, 111),\n",
       " (99, 36),\n",
       " (99, 91),\n",
       " (100, 3),\n",
       " (100, 124),\n",
       " (101, 46),\n",
       " (101, 81),\n",
       " (103, 36),\n",
       " (103, 91),\n",
       " (104, 63),\n",
       " (104, 64),\n",
       " (106, 12),\n",
       " (106, 115),\n",
       " (107, 32),\n",
       " (107, 95),\n",
       " (109, 12),\n",
       " (109, 115),\n",
       " (110, 38),\n",
       " (110, 89),\n",
       " (112, 51),\n",
       " (112, 76),\n",
       " (116, 33),\n",
       " (116, 94),\n",
       " (122, 3),\n",
       " (122, 124),\n",
       " (123, 18),\n",
       " (123, 109),\n",
       " (124, 19),\n",
       " (124, 108)]"
      ]
     },
     "metadata": {},
     "output_type": "display_data"
    }
   ],
   "source": [
    "q = 127\n",
    "points = elliptic_curve_group_elements(q, 7)\n",
    "display(points)"
   ]
  },
  {
   "cell_type": "markdown",
   "metadata": {
    "collapsed": true
   },
   "source": [
    "2) Compare the number of points with Hasse’s estimate $|N-(q+1)|\\leq 2{\\sqrt  {q}}$. (1 point)"
   ]
  },
  {
   "cell_type": "code",
   "execution_count": 225,
   "metadata": {},
   "outputs": [
    {
     "name": "stdout",
     "output_type": "stream",
     "text": [
      "True\n"
     ]
    }
   ],
   "source": [
    "from math import sqrt\n",
    "\n",
    "number_of_points = len(points)\n",
    "\n",
    "left = abs(number_of_points - (q + 1))\n",
    "right = 2 * sqrt(q)\n",
    "\n",
    "print(left <= right)"
   ]
  },
  {
   "cell_type": "markdown",
   "metadata": {},
   "source": [
    "3) Prove that the point\n",
    "$A = (19, 32)$ belongs to the elliptic curve and construct a sequence of $B_n = nA, n = 1, ..., 100$. (2 points)"
   ]
  },
  {
   "cell_type": "code",
   "execution_count": 226,
   "metadata": {},
   "outputs": [
    {
     "name": "stdout",
     "output_type": "stream",
     "text": [
      "Point (19, 32) is on curve? True\n"
     ]
    }
   ],
   "source": [
    "def point_is_on_curve(point, q, num):\n",
    "    x, y = point\n",
    "    return (x**3 + num) % q == (y**2) % q\n",
    "\n",
    "def gcdExtended(a, b):\n",
    "     if a == 0:\n",
    "          return b, 0, 1\n",
    "     gcd, x1, y1 = gcdExtended(b % a, a)\n",
    "     x = y1 - (b // a) * x1\n",
    "     y = x1\n",
    "     return gcd, x, y\n",
    "\n",
    "A = (19, 32)\n",
    "\n",
    "print(f\"Point (19, 32) is on curve? {point_is_on_curve(A, 127, 7)}\")\n"
   ]
  },
  {
   "cell_type": "code",
   "execution_count": 227,
   "metadata": {},
   "outputs": [],
   "source": [
    "def double_point(point, q):\n",
    "     x, y = point\n",
    "     s = ((3*(x**2)) * (gcdExtended(2*y, q)[1])) % q\n",
    "     newx = (s**2 - x - x) % q\n",
    "     newy = (s * (x - newx) - y) % q\n",
    "     return (newx, newy)\n",
    "\n",
    "def add_points(first_point, second_point, q):\n",
    "    x1, y1 = first_point\n",
    "    x2, y2 = second_point\n",
    "    s = ((y2 - y1) * ((gcdExtended(x2-x1, q))[1] % q)) % q\n",
    "    newx = (s**2 - x1 - x2) % q\n",
    "    newy = (s * (x1 - newx) - y1) % q\n",
    "    return (newx, newy)"
   ]
  },
  {
   "cell_type": "code",
   "execution_count": 228,
   "metadata": {},
   "outputs": [
    {
     "data": {
      "text/plain": [
       "[(19, 32),\n",
       " (11, 24),\n",
       " (98, 16),\n",
       " (123, 77),\n",
       " (27, 28),\n",
       " (113, 56),\n",
       " (69, 103),\n",
       " (113, 56),\n",
       " (69, 103),\n",
       " (113, 56),\n",
       " (69, 103),\n",
       " (113, 56),\n",
       " (69, 103),\n",
       " (113, 56),\n",
       " (69, 103),\n",
       " (113, 56),\n",
       " (69, 103),\n",
       " (113, 56),\n",
       " (69, 103),\n",
       " (113, 56),\n",
       " (69, 103),\n",
       " (113, 56),\n",
       " (69, 103),\n",
       " (113, 56),\n",
       " (69, 103),\n",
       " (113, 56),\n",
       " (69, 103),\n",
       " (113, 56),\n",
       " (69, 103),\n",
       " (113, 56),\n",
       " (69, 103),\n",
       " (113, 56),\n",
       " (69, 103),\n",
       " (113, 56),\n",
       " (69, 103),\n",
       " (113, 56),\n",
       " (69, 103),\n",
       " (113, 56),\n",
       " (69, 103),\n",
       " (113, 56),\n",
       " (69, 103),\n",
       " (113, 56),\n",
       " (69, 103),\n",
       " (113, 56),\n",
       " (69, 103),\n",
       " (113, 56),\n",
       " (69, 103),\n",
       " (113, 56),\n",
       " (69, 103),\n",
       " (113, 56),\n",
       " (69, 103),\n",
       " (113, 56),\n",
       " (69, 103),\n",
       " (113, 56),\n",
       " (69, 103),\n",
       " (113, 56),\n",
       " (69, 103),\n",
       " (113, 56),\n",
       " (69, 103),\n",
       " (113, 56),\n",
       " (69, 103),\n",
       " (113, 56),\n",
       " (69, 103),\n",
       " (113, 56),\n",
       " (69, 103),\n",
       " (113, 56),\n",
       " (69, 103),\n",
       " (113, 56),\n",
       " (69, 103),\n",
       " (113, 56),\n",
       " (69, 103),\n",
       " (113, 56),\n",
       " (69, 103),\n",
       " (113, 56),\n",
       " (69, 103),\n",
       " (113, 56),\n",
       " (69, 103),\n",
       " (113, 56),\n",
       " (69, 103),\n",
       " (113, 56),\n",
       " (69, 103),\n",
       " (113, 56),\n",
       " (69, 103),\n",
       " (113, 56),\n",
       " (69, 103),\n",
       " (113, 56),\n",
       " (69, 103),\n",
       " (113, 56),\n",
       " (69, 103),\n",
       " (113, 56),\n",
       " (69, 103),\n",
       " (113, 56),\n",
       " (69, 103),\n",
       " (113, 56),\n",
       " (69, 103),\n",
       " (113, 56),\n",
       " (69, 103),\n",
       " (113, 56),\n",
       " (69, 103),\n",
       " (113, 56),\n",
       " (69, 103)]"
      ]
     },
     "execution_count": 228,
     "metadata": {},
     "output_type": "execute_result"
    }
   ],
   "source": [
    "ans = [A]\n",
    "\n",
    "for i in range(1, 101):\n",
    "    if (ans[-1] == A):\n",
    "        new_point = double_point(A, q)\n",
    "        ans.append(new_point)\n",
    "    else:\n",
    "        new_point = add_points(ans[-1], A, q)\n",
    "        ans.append(new_point)\n",
    "\n",
    "ans"
   ]
  },
  {
   "cell_type": "markdown",
   "metadata": {},
   "source": [
    "### Problem 4 (2 points)"
   ]
  },
  {
   "cell_type": "markdown",
   "metadata": {},
   "source": [
    "Let $p = 601$, $q = 7$, $e = 1463$ be the setup of the RSA algorithm. Compute $d$, sign the plane message $m = 58$ and check the signature."
   ]
  },
  {
   "cell_type": "code",
   "execution_count": 229,
   "metadata": {},
   "outputs": [
    {
     "name": "stdout",
     "output_type": "stream",
     "text": [
      "Calculated d = 1127\n",
      "Original message: 58\n",
      "Encrypted message: 2937\n",
      "Decrypted message: 58\n"
     ]
    }
   ],
   "source": [
    "p = 601\n",
    "q = 7\n",
    "e = 1463\n",
    "m = 58\n",
    "\n",
    "phi = (p-1)*(q-1)\n",
    "d = pow(e, -1, phi)\n",
    "print(f\"Calculated d = {d}\")\n",
    "\n",
    "print(f\"Original message: {m}\")\n",
    "\n",
    "rsa_encrypted_message = m ** e % (p*q)\n",
    "print(f\"Encrypted message: {rsa_encrypted_message}\")\n",
    "\n",
    "rsa_decrypted_message = rsa_encrypted_message ** d % (p*q)\n",
    "print(f\"Decrypted message: {rsa_decrypted_message}\")"
   ]
  },
  {
   "cell_type": "markdown",
   "metadata": {},
   "source": [
    "### Problem 5 (4* points)\n",
    "\n",
    "*bonus problem"
   ]
  },
  {
   "cell_type": "markdown",
   "metadata": {},
   "source": [
    "Consider an elliptic curve $y^2 = x^3 - 2 x - 1$."
   ]
  },
  {
   "cell_type": "markdown",
   "metadata": {},
   "source": [
    "1) (1 point) Plot the curve for $(x, y) \\in (-19, 19)$. Plot $$\\{(x \\mod 19, y \\mod 19) \\; | \\;  (x, y) \\in (-19 k, 19 k)^2 \\; and \\; y^2 = x^3 - 2 x - 1\\}$$ for $k = 1, \\dots, 5$. "
   ]
  },
  {
   "cell_type": "code",
   "execution_count": null,
   "metadata": {},
   "outputs": [],
   "source": []
  },
  {
   "cell_type": "markdown",
   "metadata": {},
   "source": [
    "2) (1 point) Scatter all the integer points of curve $y^2 = x^3 - 2 x - 1$ $\\mod 19$. How many points are not in $$\\{(x \\mod 19, y \\mod 19) \\; | \\;  (x, y) \\in (-19 \\cdot 5, 19  \\cdot 5)^2 \\; and \\; y^2 = x^3 - 2 x - 1\\}?$$ "
   ]
  },
  {
   "cell_type": "code",
   "execution_count": null,
   "metadata": {},
   "outputs": [],
   "source": []
  },
  {
   "cell_type": "markdown",
   "metadata": {},
   "source": [
    "3) (2 points) Choose integer examples for all three elliptic curve $y^2 = x^3 - 2 x - 1$ addition cases and illustrate them with (straight) lines."
   ]
  },
  {
   "cell_type": "code",
   "execution_count": null,
   "metadata": {},
   "outputs": [],
   "source": []
  }
 ],
 "metadata": {
  "kernelspec": {
   "display_name": "Python 3.8.5 ('base')",
   "language": "python",
   "name": "python3"
  },
  "language_info": {
   "codemirror_mode": {
    "name": "ipython",
    "version": 3
   },
   "file_extension": ".py",
   "mimetype": "text/x-python",
   "name": "python",
   "nbconvert_exporter": "python",
   "pygments_lexer": "ipython3",
   "version": "3.8.5"
  },
  "vscode": {
   "interpreter": {
    "hash": "315520de32c5e12664aefd1bc9ed909764f9dee3450ed92151dd931576f30d47"
   }
  }
 },
 "nbformat": 4,
 "nbformat_minor": 2
}
