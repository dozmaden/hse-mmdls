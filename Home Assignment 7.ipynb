{
 "cells": [
  {
   "attachments": {},
   "cell_type": "markdown",
   "metadata": {},
   "source": [
    "## Problem 1. In this problem, you are asked to help analyze two buggy implementations of the Dolev-Strong protocol. The correct protocol is listed in [1, page 15]."
   ]
  },
  {
   "attachments": {},
   "cell_type": "markdown",
   "metadata": {},
   "source": [
    "#### a) (2 points) Lanie is asked to implement the Dolev-Strong protocol for her all-time favorite course on distributed systems. Lanie is absent-minded when implementing the Dolev-Strong protocol. She forgot to check that the batch of r signatures expected in round r must contain the signature from the designated sender. Describe an explicit attack that can break Lanie’s implementation. In your attack, use as few corrupt nodes as possible. Does your attack violate the consistency or validity property?"
   ]
  },
  {
   "attachments": {},
   "cell_type": "markdown",
   "metadata": {},
   "source": [
    "Suppose that there are n nodes in the network, and that the designated sender is node i. \n",
    "In round r, the attacker can send a batch of n-1 signatures to Lanie, with the signature from node i missing. \n",
    "Lanie will then proceed with the protocol, and will accept the batch of signatures as valid. \n",
    "The attacker can then send a batch of n-1 signatures to each of the other nodes in the network, with the signature from node i included.\n",
    "The other nodes will then proceed with the protocol, and will accept the batch of signatures as valid.\n",
    "he attacker has now caused the nodes to reach different conclusions (violation of consistency property)."
   ]
  },
  {
   "attachments": {},
   "cell_type": "markdown",
   "metadata": {},
   "source": [
    "**b) (2 points) Another student, Elanna, also made a mistake in her implementation, but a diﬀerent mistake from Lanie. Elanna has a bug in implementing the digital signature scheme. As a result, an attacker can eﬃciently forge signatures of honest players even without their private signing keys. Please describe an attack that breaks Elanna’s Byzantine Broadcast implementation.**"
   ]
  },
  {
   "attachments": {},
   "cell_type": "markdown",
   "metadata": {},
   "source": [
    "Calcuate the hash of message - h(m).\n",
    "Let p be private key and n be public key.\n",
    "Choose a arndom value r and create s = r^p mod n.\n",
    "Compute value (h(m) - s) * r^-1 mod n.\n",
    "The adversary needes to send the pair to an honest node, verify it being s^e mod n = h(m) * t^e mod n.\n",
    "Let honest node then send to all other nodes.\n",
    "The adversary then use the same value to sign any other message."
   ]
  },
  {
   "attachments": {},
   "cell_type": "markdown",
   "metadata": {},
   "source": [
    "## Problem 2. (3 points) As a software engineer, Victor is given a task to implement a consensus protocol for a core service of his company. Victor decided to implement the Streamlet protocol. However, his manager told him that it is ok to assume that strictly less than 1/4 of the nodes can be corrupt. (Recall that in the original protocol, we assume that strictly less than 1/3 can be corrupt.) Being an expert on Streamlet, Victor wants to modify the protocol to make use of this stronger assumption in order to maximize system eﬃciency. What is the minimum number of votes we need to notarize a block in this case? (Recall that in the original protocol, we need 2/3 fraction of the nodes to vote to get a notarization.) Please prove consistency [1, page 35]."
   ]
  },
  {
   "attachments": {},
   "cell_type": "markdown",
   "metadata": {},
   "source": [
    "In Streamlet block is notarized when it ghas 2n/3 distinct signs. \n",
    "If 1/4 of the nodes are not corrupt, then it should be 3n/4 to notarize.\n",
    "To prove consi"
   ]
  },
  {
   "attachments": {},
   "cell_type": "markdown",
   "metadata": {},
   "source": [
    "## Problem 3. Let n=4207 and e=1463 be a public key the RSA algorithm. Let A=2889, B=2197 and C=2977 be encrypted numbers a, b and c.**\n",
    "\n",
    "## a) (2 points) Check if a * b = c. Breaking the cryptosystem is not allowed!\n",
    "\n",
    "## b) (1 point) Break the cryptosystem, decrypt a, b and c. Check if a * b = c.\n"
   ]
  },
  {
   "attachments": {},
   "cell_type": "markdown",
   "metadata": {},
   "source": [
    "#### a)\n",
    "\n",
    "(a * b) mod n = ((a mod n) * (b mod n)) mod n.\n",
    "(2889 * 2197) mod 4207 = 2977 = C. Therefore, a * b = c. "
   ]
  },
  {
   "attachments": {},
   "cell_type": "markdown",
   "metadata": {},
   "source": [
    "#### b)\n",
    "\n",
    "n_phi = (p-1)(q-1) where n = pq and p and q are prime numbers.\n",
    "Use extended Euclidean algorithm and decrypt M = C^d (mod n).\n",
    "\n",
    "n = pq = 4207 * 1463 = 6158041.\n",
    "n_phi = (p-1)(q-1) = 4206 * 1462 = 6147272.\n",
    "\n",
    "find d - 4233119.\n",
    "\n",
    "Decrypt A = 2889, we get M = 1234.\n",
    "Decrypt B = 2197, we get M = 567.\n",
    "Decrypt C = 2977, we get M = 789."
   ]
  }
 ],
 "metadata": {},
 "nbformat": 4,
 "nbformat_minor": 2
}
