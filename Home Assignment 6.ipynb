{
 "cells": [
  {
   "cell_type": "code",
   "execution_count": 2,
   "metadata": {},
   "outputs": [],
   "source": [
    "import secrets\n",
    "from eth_account import Account"
   ]
  },
  {
   "cell_type": "code",
   "execution_count": 3,
   "metadata": {},
   "outputs": [
    {
     "name": "stdout",
     "output_type": "stream",
     "text": [
      "0x948f71f7f90b4cebb50f1e657b1c427d3444a755866aa527508dc73bffba2084\n"
     ]
    }
   ],
   "source": [
    "secret_key = \"0x\" + secrets.token_hex(32)\n",
    "print(secret_key)\n",
    "account_1 = Account.from_key(secret_key)"
   ]
  },
  {
   "attachments": {},
   "cell_type": "markdown",
   "metadata": {},
   "source": [
    "Task 1\n",
    "\n",
    "1.1. (1 point) Deploy ERC20 token smart contract with any reasonable parameters (like name, symbol) from address_1 and allocate (mint) assets to it."
   ]
  },
  {
   "attachments": {},
   "cell_type": "markdown",
   "metadata": {},
   "source": [
    "https://sepolia.etherscan.io/tx/0x2d852dbad7ace41e525240dbaa6f1f61c0b7d8d0653147658175c182b3ab5e64"
   ]
  },
  {
   "attachments": {},
   "cell_type": "markdown",
   "metadata": {},
   "source": [
    "1.2. (1 point) Write a script to\n",
    "\n",
    "(a) Send some Ethers to address_2, send some tokens to address_2. And one more time: send some Ethers to address_2, and send some tokens to address_2.\n",
    "\n",
    "(b) Again send some tokens to address_3, and send some Ethers to address_3. And one more time: send some tokens to address_3, and send some Ethers to address_3.\n",
    "\n",
    "But this time, Remix and Metamask are not allowed. Only Web3 is recommended. \n",
    "\n",
    "1.3. (2 points) Compute gas consumption per transaction from 1.1 and 1.2 with scripts. Check if all the transactions are successful (blockchain applied changes from the transaction) with scripts. Remix and Metamask are not allowed. Only Web3 is recommended."
   ]
  },
  {
   "cell_type": "code",
   "execution_count": 4,
   "metadata": {},
   "outputs": [],
   "source": [
    "from web3 import Web3, HTTPProvider\n",
    "web3 = Web3(HTTPProvider(\"https://sepolia.infura.io/v3/5938af91bcba493eb9e319569315a758\"))"
   ]
  },
  {
   "cell_type": "code",
   "execution_count": 12,
   "metadata": {},
   "outputs": [],
   "source": [
    "from web3.gas_strategies.rpc import rpc_gas_price_strategy \n",
    "\n",
    "web3.eth.set_gas_price_strategy(rpc_gas_price_strategy)"
   ]
  },
  {
   "cell_type": "code",
   "execution_count": 5,
   "metadata": {},
   "outputs": [],
   "source": [
    "contract = web3.eth.contract(address = web3.toChecksumAddress(\"0x75703db0ae56ae5803507ee51362a0975f4cb901\"), abi='[ { \"inputs\": [], \"stateMutability\": \"nonpayable\", \"type\": \"constructor\" }, { \"anonymous\": false, \"inputs\": [ { \"indexed\": true, \"internalType\": \"address\", \"name\": \"owner\", \"type\": \"address\" }, { \"indexed\": true, \"internalType\": \"address\", \"name\": \"spender\", \"type\": \"address\" }, { \"indexed\": false, \"internalType\": \"uint256\", \"name\": \"value\", \"type\": \"uint256\" } ], \"name\": \"Approval\", \"type\": \"event\" }, { \"inputs\": [ { \"internalType\": \"address\", \"name\": \"spender\", \"type\": \"address\" }, { \"internalType\": \"uint256\", \"name\": \"amount\", \"type\": \"uint256\" } ], \"name\": \"approve\", \"outputs\": [ { \"internalType\": \"bool\", \"name\": \"\", \"type\": \"bool\" } ], \"stateMutability\": \"nonpayable\", \"type\": \"function\" }, { \"inputs\": [ { \"internalType\": \"address\", \"name\": \"spender\", \"type\": \"address\" }, { \"internalType\": \"uint256\", \"name\": \"subtractedValue\", \"type\": \"uint256\" } ], \"name\": \"decreaseAllowance\", \"outputs\": [ { \"internalType\": \"bool\", \"name\": \"\", \"type\": \"bool\" } ], \"stateMutability\": \"nonpayable\", \"type\": \"function\" }, { \"inputs\": [ { \"internalType\": \"address\", \"name\": \"spender\", \"type\": \"address\" }, { \"internalType\": \"uint256\", \"name\": \"addedValue\", \"type\": \"uint256\" } ], \"name\": \"increaseAllowance\", \"outputs\": [ { \"internalType\": \"bool\", \"name\": \"\", \"type\": \"bool\" } ], \"stateMutability\": \"nonpayable\", \"type\": \"function\" }, { \"inputs\": [ { \"internalType\": \"address\", \"name\": \"to\", \"type\": \"address\" }, { \"internalType\": \"uint256\", \"name\": \"amount\", \"type\": \"uint256\" } ], \"name\": \"transfer\", \"outputs\": [ { \"internalType\": \"bool\", \"name\": \"\", \"type\": \"bool\" } ], \"stateMutability\": \"nonpayable\", \"type\": \"function\" }, { \"anonymous\": false, \"inputs\": [ { \"indexed\": true, \"internalType\": \"address\", \"name\": \"from\", \"type\": \"address\" }, { \"indexed\": true, \"internalType\": \"address\", \"name\": \"to\", \"type\": \"address\" }, { \"indexed\": false, \"internalType\": \"uint256\", \"name\": \"value\", \"type\": \"uint256\" } ], \"name\": \"Transfer\", \"type\": \"event\" }, { \"inputs\": [ { \"internalType\": \"address\", \"name\": \"from\", \"type\": \"address\" }, { \"internalType\": \"address\", \"name\": \"to\", \"type\": \"address\" }, { \"internalType\": \"uint256\", \"name\": \"amount\", \"type\": \"uint256\" } ], \"name\": \"transferFrom\", \"outputs\": [ { \"internalType\": \"bool\", \"name\": \"\", \"type\": \"bool\" } ], \"stateMutability\": \"nonpayable\", \"type\": \"function\" }, { \"inputs\": [ { \"internalType\": \"address\", \"name\": \"owner\", \"type\": \"address\" }, { \"internalType\": \"address\", \"name\": \"spender\", \"type\": \"address\" } ], \"name\": \"allowance\", \"outputs\": [ { \"internalType\": \"uint256\", \"name\": \"\", \"type\": \"uint256\" } ], \"stateMutability\": \"view\", \"type\": \"function\" }, { \"inputs\": [ { \"internalType\": \"address\", \"name\": \"account\", \"type\": \"address\" } ], \"name\": \"balanceOf\", \"outputs\": [ { \"internalType\": \"uint256\", \"name\": \"\", \"type\": \"uint256\" } ], \"stateMutability\": \"view\", \"type\": \"function\" }, { \"inputs\": [], \"name\": \"decimals\", \"outputs\": [ { \"internalType\": \"uint8\", \"name\": \"\", \"type\": \"uint8\" } ], \"stateMutability\": \"view\", \"type\": \"function\" }, { \"inputs\": [], \"name\": \"name\", \"outputs\": [ { \"internalType\": \"string\", \"name\": \"\", \"type\": \"string\" } ], \"stateMutability\": \"view\", \"type\": \"function\" }, { \"inputs\": [], \"name\": \"symbol\", \"outputs\": [ { \"internalType\": \"string\", \"name\": \"\", \"type\": \"string\" } ], \"stateMutability\": \"view\", \"type\": \"function\" }, { \"inputs\": [], \"name\": \"totalSupply\", \"outputs\": [ { \"internalType\": \"uint256\", \"name\": \"\", \"type\": \"uint256\" } ], \"stateMutability\": \"view\", \"type\": \"function\" } ]')"
   ]
  },
  {
   "cell_type": "code",
   "execution_count": 13,
   "metadata": {},
   "outputs": [
    {
     "name": "stdout",
     "output_type": "stream",
     "text": [
      "0x7f704b48b88a2389cea7569d0098609114de49bd921c63caf1e1cb70c968c043\n"
     ]
    }
   ],
   "source": [
    "secret_key = \"0x\" + secrets.token_hex(32)\n",
    "print(secret_key)\n",
    "account_2 = Account.from_key(secret_key)"
   ]
  },
  {
   "cell_type": "code",
   "execution_count": null,
   "metadata": {},
   "outputs": [],
   "source": [
    "def send_token(contract, from_account, to_address, token_value):\n",
    "    token_transfer = contract.functions.transfer(\n",
    "        to_address,\n",
    "        token_value,\n",
    "    ).buildTransaction(\n",
    "        {\n",
    "            'chainId': 11155111,\n",
    "            'gas': 200000,\n",
    "            'gasPrice':  web3.eth.generate_gas_price(),\n",
    "            'nonce': web3.eth.getTransactionCount(from_account.address),\n",
    "        }\n",
    "    )\n",
    "    sign_transaction = web3.eth.account.sign_transaction(token_transfer, from_account.privateKey)\n",
    "    receipt = web3.eth.wait_for_transaction_receipt(web3.eth.send_raw_transaction(sign_transaction.rawTransaction))\n",
    "    return receipt.transactionHash.hex()\n",
    "\n",
    "def send_ether(from_account, to_address):\n",
    "    sign_transaction = web3.eth.account.sign_transaction(\n",
    "        {\n",
    "            'to': to_address,\n",
    "            'value': Web3.toWei(\"0.01\", \"ether\"),\n",
    "            'gas': 21000,\n",
    "            'gasPrice': web3.eth.generate_gas_price(),\n",
    "            'nonce': web3.eth.get_transaction_count(from_account.address)\n",
    "        },\n",
    "        from_account.privateKey\n",
    "    )\n",
    "    receipt = web3.eth.wait_for_transaction_receipt(web3.eth.send_raw_transaction(sign_transaction.rawTransaction))\n",
    "    return receipt.transactionHash.hex()"
   ]
  },
  {
   "cell_type": "code",
   "execution_count": 8,
   "metadata": {},
   "outputs": [],
   "source": [
    "tx_1 = send_ether(account_1, account_2.address)\n",
    "tx_2 = send_token(contract, account_1, account_2.address, 100)"
   ]
  },
  {
   "cell_type": "code",
   "execution_count": 11,
   "metadata": {},
   "outputs": [
    {
     "name": "stdout",
     "output_type": "stream",
     "text": [
      "AttributeDict({'blockHash': HexBytes('0x3eff7b565fab375bd19f59f7773939a17072718ff5e89bf8044641f312651b92'), 'blockNumber': 3069444, 'contractAddress': None, 'cumulativeGasUsed': 349919, 'effectiveGasPrice': 11000000000, 'from': '0x8727C64eCC1dd3ca3b3E041dc5Eff1ccFB605b38', 'gasUsed': 21000, 'logs': [], 'logsBloom': HexBytes('0x00000000000000000000000000000000000000000000000000000000000000000000000000000000000000000000000000000000000000000000000000000000000000000000000000000000000000000000000000000000000000000000000000000000000000000000000000000000000000000000000000000000000000000000000000000000000000000000000000000000000000000000000000000000000000000000000000000000000000000000000000000000000000000000000000000000000000000000000000000000000000000000000000000000000000000000000000000000000000000000000000000000000000000000000000000000'), 'status': 1, 'to': '0x0645DC52f1123136fd965FEf1A6d6DF71e51802D', 'transactionHash': HexBytes('0x998468b4256b3ca03709a83acd4e074d8b4d7b0f5a50309cc5a7f629ec8197f3'), 'transactionIndex': 1, 'type': '0x0'})\n",
      "AttributeDict({'blockHash': HexBytes('0xbdeff68614a4487d3c82626cc4401eeb2797ee4f7f2f0b784531907095c433fb'), 'blockNumber': 3069445, 'contractAddress': None, 'cumulativeGasUsed': 183257, 'effectiveGasPrice': 11000000000, 'from': '0x8727C64eCC1dd3ca3b3E041dc5Eff1ccFB605b38', 'gasUsed': 52139, 'logs': [AttributeDict({'address': '0x75703dB0Ae56Ae5803507ee51362a0975f4cB901', 'blockHash': HexBytes('0xbdeff68614a4487d3c82626cc4401eeb2797ee4f7f2f0b784531907095c433fb'), 'blockNumber': 3069445, 'data': '0x0000000000000000000000000000000000000000000000000000000000000064', 'logIndex': 4, 'removed': False, 'topics': [HexBytes('0xddf252ad1be2c89b69c2b068fc378daa952ba7f163c4a11628f55a4df523b3ef'), HexBytes('0x0000000000000000000000008727c64ecc1dd3ca3b3e041dc5eff1ccfb605b38'), HexBytes('0x0000000000000000000000000645dc52f1123136fd965fef1a6d6df71e51802d')], 'transactionHash': HexBytes('0x467b8f3b4894e155ccb5762d9f6060a2bb0a59257cbc622ff5d5f5ab0f1f20d3'), 'transactionIndex': 1})], 'logsBloom': HexBytes('0x00010000000000000000000000000000000000010000000000081000000000000000000000000000000000000000000000000000000000000000000010000000000000000000000000000008000000000000000000000000000000000000000000000000000000000000000000000000000000000000000000000010000000000000000000000000000000000000000000000000200000000000000000000000000000000000000000000000000000000000000000000000000000000000000000000002000000000000000000000000000000000000000000000000100000000000000000000000000004000000000000000000000000000000000200000000'), 'status': 1, 'to': '0x75703dB0Ae56Ae5803507ee51362a0975f4cB901', 'transactionHash': HexBytes('0x467b8f3b4894e155ccb5762d9f6060a2bb0a59257cbc622ff5d5f5ab0f1f20d3'), 'transactionIndex': 1, 'type': '0x0'})\n"
     ]
    }
   ],
   "source": [
    "print(web3.eth.get_transaction_receipt(tx_1))\n",
    "print(web3.eth.get_transaction_receipt(tx_2))"
   ]
  },
  {
   "cell_type": "code",
   "execution_count": 14,
   "metadata": {},
   "outputs": [],
   "source": [
    "tx_3 = send_ether(account_1, account_2.address)\n",
    "tx_4 = send_token(contract, account_1, account_2.address, 100)"
   ]
  },
  {
   "cell_type": "code",
   "execution_count": 15,
   "metadata": {},
   "outputs": [
    {
     "name": "stdout",
     "output_type": "stream",
     "text": [
      "AttributeDict({'blockHash': HexBytes('0x854c2ded30015d36ab34efe761bf76a90418308ff69c5e35562b5f02e9152a3f'), 'blockNumber': 3069485, 'contractAddress': None, 'cumulativeGasUsed': 228648, 'effectiveGasPrice': 11000000000, 'from': '0x8727C64eCC1dd3ca3b3E041dc5Eff1ccFB605b38', 'gasUsed': 21000, 'logs': [], 'logsBloom': HexBytes('0x00000000000000000000000000000000000000000000000000000000000000000000000000000000000000000000000000000000000000000000000000000000000000000000000000000000000000000000000000000000000000000000000000000000000000000000000000000000000000000000000000000000000000000000000000000000000000000000000000000000000000000000000000000000000000000000000000000000000000000000000000000000000000000000000000000000000000000000000000000000000000000000000000000000000000000000000000000000000000000000000000000000000000000000000000000000'), 'status': 1, 'to': '0x0A7EbF76e520d1d2F167cECedb7c5EA47687AAe8', 'transactionHash': HexBytes('0x6df93c456ede3def75a34608520e55ea0f66a8a35633eecca2369c399d7474dc'), 'transactionIndex': 2, 'type': '0x0'})\n",
      "AttributeDict({'blockHash': HexBytes('0xc301d810f9d2e4fc8bae8240da6e3236f3f750fabb18f44f9d6a17d29d923151'), 'blockNumber': 3069486, 'contractAddress': None, 'cumulativeGasUsed': 117187, 'effectiveGasPrice': 11000000000, 'from': '0x8727C64eCC1dd3ca3b3E041dc5Eff1ccFB605b38', 'gasUsed': 52139, 'logs': [AttributeDict({'address': '0x75703dB0Ae56Ae5803507ee51362a0975f4cB901', 'blockHash': HexBytes('0xc301d810f9d2e4fc8bae8240da6e3236f3f750fabb18f44f9d6a17d29d923151'), 'blockNumber': 3069486, 'data': '0x0000000000000000000000000000000000000000000000000000000000000064', 'logIndex': 0, 'removed': False, 'topics': [HexBytes('0xddf252ad1be2c89b69c2b068fc378daa952ba7f163c4a11628f55a4df523b3ef'), HexBytes('0x0000000000000000000000008727c64ecc1dd3ca3b3e041dc5eff1ccfb605b38'), HexBytes('0x0000000000000000000000000a7ebf76e520d1d2f167cecedb7c5ea47687aae8')], 'transactionHash': HexBytes('0x2333cef076ff7b1d53ec98282b0255cf8070dead448ac27e62e9b8b440e716af'), 'transactionIndex': 3})], 'logsBloom': HexBytes('0x00010000000000000000000000000000000000010000000000080000000000000000000000000000000000000000004000000000000000000000000000000000000000000000000000000008000000000000000000000000000000000000000000000000000000000000000000000000000000000000000000000010000000000000000000000000000000000000000000000000200000000000000000000000002000000000000000000000000000000000000000000000000000000000000000000002000000000000000000000000000000000000000000000000100000000000000800000000000004000000000000000000000000000000000000000000'), 'status': 1, 'to': '0x75703dB0Ae56Ae5803507ee51362a0975f4cB901', 'transactionHash': HexBytes('0x2333cef076ff7b1d53ec98282b0255cf8070dead448ac27e62e9b8b440e716af'), 'transactionIndex': 3, 'type': '0x0'})\n"
     ]
    }
   ],
   "source": [
    "print(web3.eth.get_transaction_receipt(tx_3))\n",
    "print(web3.eth.get_transaction_receipt(tx_4))"
   ]
  },
  {
   "cell_type": "code",
   "execution_count": 16,
   "metadata": {},
   "outputs": [
    {
     "name": "stdout",
     "output_type": "stream",
     "text": [
      "0x81d9da237c47c329b48fc4f3277e2c2f4048e349e95f0e19f41fce941ccdcda6\n"
     ]
    }
   ],
   "source": [
    "secret_key = \"0x\" + secrets.token_hex(32)\n",
    "print(secret_key)\n",
    "account_3 = Account.from_key(secret_key)"
   ]
  },
  {
   "cell_type": "code",
   "execution_count": 17,
   "metadata": {},
   "outputs": [],
   "source": [
    "tx_5 = send_ether(account_1, account_3.address)\n",
    "tx_6 = send_token(contract, account_1, account_3.address, 100)"
   ]
  },
  {
   "cell_type": "code",
   "execution_count": 18,
   "metadata": {},
   "outputs": [
    {
     "name": "stdout",
     "output_type": "stream",
     "text": [
      "AttributeDict({'blockHash': HexBytes('0x2b3de202e5189e2945cebebbf987f8707410d09f4dfead5fa670e8b3545922df'), 'blockNumber': 3069497, 'contractAddress': None, 'cumulativeGasUsed': 604451, 'effectiveGasPrice': 2500000007, 'from': '0x8727C64eCC1dd3ca3b3E041dc5Eff1ccFB605b38', 'gasUsed': 21000, 'logs': [], 'logsBloom': HexBytes('0x00000000000000000000000000000000000000000000000000000000000000000000000000000000000000000000000000000000000000000000000000000000000000000000000000000000000000000000000000000000000000000000000000000000000000000000000000000000000000000000000000000000000000000000000000000000000000000000000000000000000000000000000000000000000000000000000000000000000000000000000000000000000000000000000000000000000000000000000000000000000000000000000000000000000000000000000000000000000000000000000000000000000000000000000000000000'), 'status': 1, 'to': '0x2b761674C0C32B65FAe26325dD90D2F1F66620e1', 'transactionHash': HexBytes('0xc81178204c93e0549e428da5b16ede559fdd7ecf009825ffaf4b11a5fef38aea'), 'transactionIndex': 3, 'type': '0x0'})\n",
      "AttributeDict({'blockHash': HexBytes('0xff7a6135243db486681ebf53f270674b76de88d9d985f5d5f5649501b4391bf0'), 'blockNumber': 3069498, 'contractAddress': None, 'cumulativeGasUsed': 73139, 'effectiveGasPrice': 2500000007, 'from': '0x8727C64eCC1dd3ca3b3E041dc5Eff1ccFB605b38', 'gasUsed': 52139, 'logs': [AttributeDict({'address': '0x75703dB0Ae56Ae5803507ee51362a0975f4cB901', 'blockHash': HexBytes('0xff7a6135243db486681ebf53f270674b76de88d9d985f5d5f5649501b4391bf0'), 'blockNumber': 3069498, 'data': '0x0000000000000000000000000000000000000000000000000000000000000064', 'logIndex': 0, 'removed': False, 'topics': [HexBytes('0xddf252ad1be2c89b69c2b068fc378daa952ba7f163c4a11628f55a4df523b3ef'), HexBytes('0x0000000000000000000000008727c64ecc1dd3ca3b3e041dc5eff1ccfb605b38'), HexBytes('0x0000000000000000000000002b761674c0c32b65fae26325dd90d2f1f66620e1')], 'transactionHash': HexBytes('0xdd52357253f7f49cbf75ee503bce65c45707ee4aedbe56052b6b76d1bcd28952'), 'transactionIndex': 1})], 'logsBloom': HexBytes('0x00010000000000000000000000000000000000010000000000080000000000000000000000000000000000000000000000400000000000000000000000000000000000000000000040000008000000000000000000000000000002000000000000000000000000000000000000000000000000000000000000000010000000000000000000000000000000000000000000000000200000000000000000000000000000000000000000000000000000000000000000000000000000000000000000000002000000000000000000000000000000000000000000000000100000000000000000000000000004000000000000000000000000000000000000000000'), 'status': 1, 'to': '0x75703dB0Ae56Ae5803507ee51362a0975f4cB901', 'transactionHash': HexBytes('0xdd52357253f7f49cbf75ee503bce65c45707ee4aedbe56052b6b76d1bcd28952'), 'transactionIndex': 1, 'type': '0x0'})\n"
     ]
    }
   ],
   "source": [
    "print(web3.eth.get_transaction_receipt(tx_5))\n",
    "print(web3.eth.get_transaction_receipt(tx_6))"
   ]
  },
  {
   "cell_type": "code",
   "execution_count": 19,
   "metadata": {},
   "outputs": [],
   "source": [
    "tx_7 = send_ether(account_1, account_3.address)\n",
    "tx_8 = send_token(contract, account_1, account_3.address, 100)"
   ]
  },
  {
   "cell_type": "code",
   "execution_count": 20,
   "metadata": {},
   "outputs": [
    {
     "name": "stdout",
     "output_type": "stream",
     "text": [
      "AttributeDict({'blockHash': HexBytes('0x3c90bbc655b36496a20bff7928c9466b158bdff44974bef85180558fade62a63'), 'blockNumber': 3069506, 'contractAddress': None, 'cumulativeGasUsed': 86048, 'effectiveGasPrice': 2500000007, 'from': '0x8727C64eCC1dd3ca3b3E041dc5Eff1ccFB605b38', 'gasUsed': 21000, 'logs': [], 'logsBloom': HexBytes('0x00000000000000000000000000000000000000000000000000000000000000000000000000000000000000000000000000000000000000000000000000000000000000000000000000000000000000000000000000000000000000000000000000000000000000000000000000000000000000000000000000000000000000000000000000000000000000000000000000000000000000000000000000000000000000000000000000000000000000000000000000000000000000000000000000000000000000000000000000000000000000000000000000000000000000000000000000000000000000000000000000000000000000000000000000000000'), 'status': 1, 'to': '0x2b761674C0C32B65FAe26325dD90D2F1F66620e1', 'transactionHash': HexBytes('0x73b68dae5b835f082669a2a21a5745e0f0b9bc0f4cd37857118ec3ad311d25c9'), 'transactionIndex': 3, 'type': '0x0'})\n",
      "AttributeDict({'blockHash': HexBytes('0xeae050f16dd75830d1a5519b4878841360df7d165e07d14c749b89fbcafafb4c'), 'blockNumber': 3069507, 'contractAddress': None, 'cumulativeGasUsed': 56039, 'effectiveGasPrice': 2500000007, 'from': '0x8727C64eCC1dd3ca3b3E041dc5Eff1ccFB605b38', 'gasUsed': 35039, 'logs': [AttributeDict({'address': '0x75703dB0Ae56Ae5803507ee51362a0975f4cB901', 'blockHash': HexBytes('0xeae050f16dd75830d1a5519b4878841360df7d165e07d14c749b89fbcafafb4c'), 'blockNumber': 3069507, 'data': '0x0000000000000000000000000000000000000000000000000000000000000064', 'logIndex': 0, 'removed': False, 'topics': [HexBytes('0xddf252ad1be2c89b69c2b068fc378daa952ba7f163c4a11628f55a4df523b3ef'), HexBytes('0x0000000000000000000000008727c64ecc1dd3ca3b3e041dc5eff1ccfb605b38'), HexBytes('0x0000000000000000000000002b761674c0c32b65fae26325dd90d2f1f66620e1')], 'transactionHash': HexBytes('0xeab55e317c33311eac06fa37804434597270ccec33c0af48a56c4a2b2685267a'), 'transactionIndex': 1})], 'logsBloom': HexBytes('0x00010000000000000000000000000000000000010000000000080000000000000000000000000000000000000000000000400000000000000000000000000000000000000000000040000008000000000000000000000000000002000000000000000000000000000000000000000000000000000000000000000010000000000000000000000000000000000000000000000000200000000000000000000000000000000000000000000000000000000000000000000000000000000000000000000002000000000000000000000000000000000000000000000000100000000000000000000000000004000000000000000000000000000000000000000000'), 'status': 1, 'to': '0x75703dB0Ae56Ae5803507ee51362a0975f4cB901', 'transactionHash': HexBytes('0xeab55e317c33311eac06fa37804434597270ccec33c0af48a56c4a2b2685267a'), 'transactionIndex': 1, 'type': '0x0'})\n"
     ]
    }
   ],
   "source": [
    "print(web3.eth.get_transaction_receipt(tx_7))\n",
    "print(web3.eth.get_transaction_receipt(tx_8))"
   ]
  },
  {
   "attachments": {},
   "cell_type": "markdown",
   "metadata": {},
   "source": [
    "Все транзакции успешные (status = 1)"
   ]
  },
  {
   "attachments": {},
   "cell_type": "markdown",
   "metadata": {},
   "source": [
    "Task 2"
   ]
  },
  {
   "attachments": {},
   "cell_type": "markdown",
   "metadata": {},
   "source": [
    "2.1. (3 points) Write a smart contract to compute MMDLS course final grade. I.e.,\n",
    "\n",
    "(a) The contract deployer assumed to be a professor\n",
    "\n",
    "(b) The professor can input values to a mapping \"assign grades\": str student_id -> uint grades[8], where grades[8] are HA1, ..., HA6, ExamTerm1, ExamFinal.\n",
    "\n",
    "(c) The professor can call a method \"compute final grade\", which computes a mapping: str student_id -> uint final_grade, based on the MMDLS course formula: \n",
    "\n",
    "Intermediate=min(round((max(HA1 +HA2, 2 * ExamTerm1)  + HA3 + HA4 + HA5 + HA6) / 6), 10)\n",
    "If ExamFinal > 0: final_grade = min(round(0.4 * Intermediate + 0.6 * ExamFinal), 10), else final_grade = Intermediate * I(Intermediate >= 6), where I(true) = 1 and I(false) = 0."
   ]
  },
  {
   "attachments": {},
   "cell_type": "markdown",
   "metadata": {},
   "source": [
    "```\n",
    "// SPDX-License-Identifier: GPL-3.0\n",
    "\n",
    "pragma solidity >=0.7.0 <0.9.0;\n",
    "\n",
    "import \"@openzeppelin/contracts/utils/math/Math.sol\";\n",
    "\n",
    "contract HSE_Course {\n",
    "\n",
    "    address owner;\n",
    "\n",
    "    constructor() { \n",
    "        owner = msg.sender;\n",
    "    }\n",
    "\n",
    "    mapping(string => uint[8]) public grades;\n",
    "    mapping(string => uint) public final_grades;\n",
    "\n",
    "    function set_grades(string memory name, uint8[8] memory _grades) public {\n",
    "        require(owner == msg.sender);\n",
    "        for (uint i = 0; i < 8; i++) {\n",
    "            grades[name][i] = _grades[i];\n",
    "        }\n",
    "    }\n",
    "    \n",
    "    function set_final_grade(string memory name) public returns (uint) {\n",
    "        require(owner == msg.sender);\n",
    "\n",
    "        uint first_grades = grades[name][2] + grades[name][3] + grades[name][4] + grades[name][5] + Math.max(grades[name][6] * 2, grades[name][0] + grades[name][1]);\n",
    "        uint intermediate_grade = Math.min(first_grades / 6, 10);\n",
    "\n",
    "        if (grades[name][7] > 0) {\n",
    "            uint final_mark = (intermediate_grade * 4) / 10 + (grades[name][7] * 6) / 10;\n",
    "            final_grades[name] = Math.min(final_mark, 10);\n",
    "        } else {\n",
    "            if (intermediate_grade > 0) { \n",
    "                final_grades[name] = intermediate_grade;\n",
    "            } else { \n",
    "                final_grades[name] = 0;\n",
    "            }\n",
    "        }\n",
    "        return final_grades[name];\n",
    "    }\n",
    "}\n",
    "\n",
    "```"
   ]
  },
  {
   "attachments": {},
   "cell_type": "markdown",
   "metadata": {},
   "source": [
    "2.2. (1 point) Write 5+ tests to examine different grade situations."
   ]
  },
  {
   "attachments": {},
   "cell_type": "markdown",
   "metadata": {},
   "source": [
    "```\n",
    "// SPDX-License-Identifier: GPL-3.0\n",
    "\n",
    "pragma solidity >=0.7.0 <0.9.0;\n",
    "import \"remix_tests.sol\"; // this import is automatically injected by Remix.\n",
    "import \"hardhat/console.sol\";\n",
    "import \"../contracts/HSE_Course.sol\";\n",
    "\n",
    "contract HSE_Couse_Test {\n",
    "\n",
    "    HSE_Course course;\n",
    "\n",
    "    function beforeAll () public {\n",
    "        course = new HSE_Course();\n",
    "    }\n",
    "\n",
    "    function test_1() public {\n",
    "        course.set_grades(\"test_1\", [4, 6, 10, 10, 10, 10, 5, 10]);\n",
    "        Assert.equal(course.set_final_grade(\"test_1\"), 9, \"test failed\");\n",
    "    }\n",
    "\n",
    "    function test_2() public {\n",
    "        course.set_grades(\"test_2\", [0, 10, 2, 4, 6, 8, 5, 0]);\n",
    "        Assert.equal(course.set_final_grade(\"test_2\"), 5, \"test failed\");\n",
    "    }\n",
    "\n",
    "    function test_3() public {\n",
    "        course.set_grades(\"test_3\", [0, 0, 10, 10, 5, 5, 0, 10]);\n",
    "        Assert.equal(course.set_final_grade(\"test_3\"), 8, \"test failed\");\n",
    "    }\n",
    "\n",
    "    function test_4() public {\n",
    "        course.set_grades(\"test_4\", [10, 10, 10, 10, 10, 10, 10, 10]);\n",
    "        Assert.equal(course.set_final_grade(\"test_4\"), 10, \"test failed\");\n",
    "    }\n",
    "\n",
    "    function test_5() public {\n",
    "        course.set_grades(\"test_5\", [2, 8, 5, 5, 5, 5, 5, 5]);\n",
    "        Assert.equal(course.set_final_grade(\"test_5\"), 5, \"test failed\");\n",
    "    }\n",
    "\n",
    "    function test_6() public {\n",
    "        course.set_grades(\"test_6\", [0, 0, 0, 0, 0, 0, 0, 4]);\n",
    "        Assert.equal(course.set_final_grade(\"test_6\"), 2, \"test failed\");\n",
    "    }\n",
    "}\n",
    "```"
   ]
  },
  {
   "attachments": {},
   "cell_type": "markdown",
   "metadata": {},
   "source": [
    "2.3. (2 points) Test smart contract with Hardhat.\n",
    "\n"
   ]
  },
  {
   "attachments": {},
   "cell_type": "markdown",
   "metadata": {},
   "source": [
    "```\n",
    "const { expect } = require(\"chai\");\n",
    "const { ethers } = require(\"hardhat\");\n",
    "\n",
    "describe(\"HSE_Course\", function () {\n",
    "  it(\"test_1\", async function () {\n",
    "    const HSE_Course = await ethers.getContractFactory(\"HSE_Course\");\n",
    "    const hse = await HSE_Course.deploy();\n",
    "    await hse.deployed();\n",
    "    const setted = await hse.set_grades((\"test_1\", [4, 6, 10, 10, 10, 10, 5, 10]));\n",
    "    await setted.wait()\n",
    "    expect((await hse.set_final_grade(\"test_1\")).toNumber()).to.equal(9);\n",
    "  });\n",
    "    it(\"test_2\", async function () {\n",
    "    const HSE_Course = await ethers.getContractFactory(\"HSE_Course\");\n",
    "    const hse = await HSE_Course.deploy();\n",
    "    await cms.deployed();\n",
    "    const setted = await hse.set_grades((\"test_2\", [0, 10, 2, 4, 6, 8, 5, 0]));\n",
    "    await setted.wait()\n",
    "    expect((await hse.set_final_grade(\"test_2\")).toNumber()).to.equal(5);\n",
    "  });\n",
    "});"
   ]
  }
 ],
 "metadata": {
  "language_info": {
   "name": "python"
  }
 },
 "nbformat": 4,
 "nbformat_minor": 2
}
